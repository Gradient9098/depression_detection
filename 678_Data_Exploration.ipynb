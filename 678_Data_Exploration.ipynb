{
  "nbformat": 4,
  "nbformat_minor": 0,
  "metadata": {
    "colab": {
      "provenance": []
    },
    "kernelspec": {
      "name": "python3",
      "display_name": "Python 3"
    },
    "language_info": {
      "name": "python"
    }
  },
  "cells": [
    {
      "cell_type": "markdown",
      "source": [
        "# Goal Is to reduce the parameters needed to detect depression so that it could be used on edge devices (Apples autocorrect can detect and help users find mental health sources) rather than needing expensive API requests to a remote LLM."
      ],
      "metadata": {
        "id": "a4OIpSCWsm2o"
      }
    },
    {
      "cell_type": "code",
      "execution_count": null,
      "metadata": {
        "colab": {
          "base_uri": "https://localhost:8080/"
        },
        "id": "QDN7zCaPB9bX",
        "outputId": "56aa1785-03a6-491e-8ded-b0f56a09e002"
      },
      "outputs": [
        {
          "output_type": "stream",
          "name": "stdout",
          "text": [
            "Cloning into 'depression-detection-lt-edi-2022'...\n",
            "remote: Enumerating objects: 67, done.\u001b[K\n",
            "remote: Counting objects: 100% (67/67), done.\u001b[K\n",
            "remote: Compressing objects: 100% (46/46), done.\u001b[K\n",
            "remote: Total 67 (delta 23), reused 57 (delta 18), pack-reused 0 (from 0)\u001b[K\n",
            "Receiving objects: 100% (67/67), 8.30 MiB | 10.74 MiB/s, done.\n",
            "Resolving deltas: 100% (23/23), done.\n"
          ]
        }
      ],
      "source": [
        "!git clone https://github.com/rafalposwiata/depression-detection-lt-edi-2022.git"
      ]
    },
    {
      "cell_type": "code",
      "source": [
        "!pwd\n",
        "!ls"
      ],
      "metadata": {
        "colab": {
          "base_uri": "https://localhost:8080/"
        },
        "id": "aAhrENeMCY6d",
        "outputId": "0beb8a6e-e01b-4bb3-bba9-77761e2ac7da"
      },
      "execution_count": null,
      "outputs": [
        {
          "output_type": "stream",
          "name": "stdout",
          "text": [
            "/content/depression-detection-lt-edi-2022/data/original_dataset/depression-detection-lt-edi-2022/data/original_dataset/depression-detection-lt-edi-2022/data/original_dataset\n",
            "dev.tsv  test.tsv  train.tsv\n"
          ]
        }
      ]
    },
    {
      "cell_type": "code",
      "source": [
        "%cd depression-detection-lt-edi-2022/data/original_dataset/"
      ],
      "metadata": {
        "colab": {
          "base_uri": "https://localhost:8080/"
        },
        "id": "Kr9Yz2TOCbUK",
        "outputId": "922eb1aa-fc1a-459f-ecd1-f1226fdda593"
      },
      "execution_count": null,
      "outputs": [
        {
          "output_type": "stream",
          "name": "stdout",
          "text": [
            "[Errno 2] No such file or directory: 'depression-detection-lt-edi-2022/data/original_dataset/'\n",
            "/content/depression-detection-lt-edi-2022/data/original_dataset/depression-detection-lt-edi-2022/data/original_dataset/depression-detection-lt-edi-2022/data/original_dataset\n"
          ]
        }
      ]
    },
    {
      "cell_type": "code",
      "source": [
        "!ls"
      ],
      "metadata": {
        "colab": {
          "base_uri": "https://localhost:8080/"
        },
        "id": "yyGGLGLGCel8",
        "outputId": "f2bad827-ffd5-4e18-f914-f62b9fe05526"
      },
      "execution_count": null,
      "outputs": [
        {
          "output_type": "stream",
          "name": "stdout",
          "text": [
            "dev.tsv  test.tsv  train.tsv\n"
          ]
        }
      ]
    },
    {
      "cell_type": "code",
      "source": [
        "import pandas as pd\n",
        "import numpy as np\n",
        "import re\n",
        "\n",
        "import os\n",
        "directory = '.'\n",
        "files = []\n",
        "for filename in os.listdir(directory):\n",
        "    f = os.path.join(directory, filename)\n",
        "    if os.path.isfile(f):\n",
        "        print(f.split('.')[1][1:])\n",
        "        files.append(f.split('.')[1][1:])\n",
        "print(files)\n",
        "\n",
        "# for file_ in files:\n",
        "#   with open(file_ + \".tsv\", 'r') as myfile:\n",
        "#     with open(file_ + \".csv\", 'w') as csv_file:\n",
        "#       for line in myfile:\n",
        "\n",
        "#         fileContent = re.sub(\"\\t\", \",\", line)\n",
        "\n",
        "#         csv_file.write(fileContent)\n",
        "\n",
        "df_train = pd.read_table(files[0] + \".tsv\")\n",
        "#.to_csv(files[0] + \".csv\", index=False)\n",
        "\n",
        "df_train.head()"
      ],
      "metadata": {
        "colab": {
          "base_uri": "https://localhost:8080/",
          "height": 295
        },
        "id": "sr457E5UCmPM",
        "outputId": "562c91a4-0525-41f5-df83-8d1069f2214f"
      },
      "execution_count": null,
      "outputs": [
        {
          "output_type": "stream",
          "name": "stdout",
          "text": [
            "test\n",
            "train\n",
            "dev\n",
            "['test', 'train', 'dev']\n"
          ]
        },
        {
          "output_type": "execute_result",
          "data": {
            "text/plain": [
              "          Pid                                          text data Class labels\n",
              "0  test_pid_1  Im scared : This is it. I lie to myself every ...     moderate\n",
              "1  test_pid_2  New to this but just wanted to vent : I just f...     moderate\n",
              "2  test_pid_3  I’m sad : It’s kinda always been an issue. I w...     moderate\n",
              "3  test_pid_4  Lonely but not alone. : All of my immediately ...     moderate\n",
              "4  test_pid_5  This year has been trash. : I dont know why I’...     moderate"
            ],
            "text/html": [
              "\n",
              "  <div id=\"df-e028c8e3-6f5a-4b99-9634-c1d2fb9908c9\" class=\"colab-df-container\">\n",
              "    <div>\n",
              "<style scoped>\n",
              "    .dataframe tbody tr th:only-of-type {\n",
              "        vertical-align: middle;\n",
              "    }\n",
              "\n",
              "    .dataframe tbody tr th {\n",
              "        vertical-align: top;\n",
              "    }\n",
              "\n",
              "    .dataframe thead th {\n",
              "        text-align: right;\n",
              "    }\n",
              "</style>\n",
              "<table border=\"1\" class=\"dataframe\">\n",
              "  <thead>\n",
              "    <tr style=\"text-align: right;\">\n",
              "      <th></th>\n",
              "      <th>Pid</th>\n",
              "      <th>text data</th>\n",
              "      <th>Class labels</th>\n",
              "    </tr>\n",
              "  </thead>\n",
              "  <tbody>\n",
              "    <tr>\n",
              "      <th>0</th>\n",
              "      <td>test_pid_1</td>\n",
              "      <td>Im scared : This is it. I lie to myself every ...</td>\n",
              "      <td>moderate</td>\n",
              "    </tr>\n",
              "    <tr>\n",
              "      <th>1</th>\n",
              "      <td>test_pid_2</td>\n",
              "      <td>New to this but just wanted to vent : I just f...</td>\n",
              "      <td>moderate</td>\n",
              "    </tr>\n",
              "    <tr>\n",
              "      <th>2</th>\n",
              "      <td>test_pid_3</td>\n",
              "      <td>I’m sad : It’s kinda always been an issue. I w...</td>\n",
              "      <td>moderate</td>\n",
              "    </tr>\n",
              "    <tr>\n",
              "      <th>3</th>\n",
              "      <td>test_pid_4</td>\n",
              "      <td>Lonely but not alone. : All of my immediately ...</td>\n",
              "      <td>moderate</td>\n",
              "    </tr>\n",
              "    <tr>\n",
              "      <th>4</th>\n",
              "      <td>test_pid_5</td>\n",
              "      <td>This year has been trash. : I dont know why I’...</td>\n",
              "      <td>moderate</td>\n",
              "    </tr>\n",
              "  </tbody>\n",
              "</table>\n",
              "</div>\n",
              "    <div class=\"colab-df-buttons\">\n",
              "\n",
              "  <div class=\"colab-df-container\">\n",
              "    <button class=\"colab-df-convert\" onclick=\"convertToInteractive('df-e028c8e3-6f5a-4b99-9634-c1d2fb9908c9')\"\n",
              "            title=\"Convert this dataframe to an interactive table.\"\n",
              "            style=\"display:none;\">\n",
              "\n",
              "  <svg xmlns=\"http://www.w3.org/2000/svg\" height=\"24px\" viewBox=\"0 -960 960 960\">\n",
              "    <path d=\"M120-120v-720h720v720H120Zm60-500h600v-160H180v160Zm220 220h160v-160H400v160Zm0 220h160v-160H400v160ZM180-400h160v-160H180v160Zm440 0h160v-160H620v160ZM180-180h160v-160H180v160Zm440 0h160v-160H620v160Z\"/>\n",
              "  </svg>\n",
              "    </button>\n",
              "\n",
              "  <style>\n",
              "    .colab-df-container {\n",
              "      display:flex;\n",
              "      gap: 12px;\n",
              "    }\n",
              "\n",
              "    .colab-df-convert {\n",
              "      background-color: #E8F0FE;\n",
              "      border: none;\n",
              "      border-radius: 50%;\n",
              "      cursor: pointer;\n",
              "      display: none;\n",
              "      fill: #1967D2;\n",
              "      height: 32px;\n",
              "      padding: 0 0 0 0;\n",
              "      width: 32px;\n",
              "    }\n",
              "\n",
              "    .colab-df-convert:hover {\n",
              "      background-color: #E2EBFA;\n",
              "      box-shadow: 0px 1px 2px rgba(60, 64, 67, 0.3), 0px 1px 3px 1px rgba(60, 64, 67, 0.15);\n",
              "      fill: #174EA6;\n",
              "    }\n",
              "\n",
              "    .colab-df-buttons div {\n",
              "      margin-bottom: 4px;\n",
              "    }\n",
              "\n",
              "    [theme=dark] .colab-df-convert {\n",
              "      background-color: #3B4455;\n",
              "      fill: #D2E3FC;\n",
              "    }\n",
              "\n",
              "    [theme=dark] .colab-df-convert:hover {\n",
              "      background-color: #434B5C;\n",
              "      box-shadow: 0px 1px 3px 1px rgba(0, 0, 0, 0.15);\n",
              "      filter: drop-shadow(0px 1px 2px rgba(0, 0, 0, 0.3));\n",
              "      fill: #FFFFFF;\n",
              "    }\n",
              "  </style>\n",
              "\n",
              "    <script>\n",
              "      const buttonEl =\n",
              "        document.querySelector('#df-e028c8e3-6f5a-4b99-9634-c1d2fb9908c9 button.colab-df-convert');\n",
              "      buttonEl.style.display =\n",
              "        google.colab.kernel.accessAllowed ? 'block' : 'none';\n",
              "\n",
              "      async function convertToInteractive(key) {\n",
              "        const element = document.querySelector('#df-e028c8e3-6f5a-4b99-9634-c1d2fb9908c9');\n",
              "        const dataTable =\n",
              "          await google.colab.kernel.invokeFunction('convertToInteractive',\n",
              "                                                    [key], {});\n",
              "        if (!dataTable) return;\n",
              "\n",
              "        const docLinkHtml = 'Like what you see? Visit the ' +\n",
              "          '<a target=\"_blank\" href=https://colab.research.google.com/notebooks/data_table.ipynb>data table notebook</a>'\n",
              "          + ' to learn more about interactive tables.';\n",
              "        element.innerHTML = '';\n",
              "        dataTable['output_type'] = 'display_data';\n",
              "        await google.colab.output.renderOutput(dataTable, element);\n",
              "        const docLink = document.createElement('div');\n",
              "        docLink.innerHTML = docLinkHtml;\n",
              "        element.appendChild(docLink);\n",
              "      }\n",
              "    </script>\n",
              "  </div>\n",
              "\n",
              "\n",
              "<div id=\"df-44caf0c2-ff8c-40f8-8983-73db8f9c3383\">\n",
              "  <button class=\"colab-df-quickchart\" onclick=\"quickchart('df-44caf0c2-ff8c-40f8-8983-73db8f9c3383')\"\n",
              "            title=\"Suggest charts\"\n",
              "            style=\"display:none;\">\n",
              "\n",
              "<svg xmlns=\"http://www.w3.org/2000/svg\" height=\"24px\"viewBox=\"0 0 24 24\"\n",
              "     width=\"24px\">\n",
              "    <g>\n",
              "        <path d=\"M19 3H5c-1.1 0-2 .9-2 2v14c0 1.1.9 2 2 2h14c1.1 0 2-.9 2-2V5c0-1.1-.9-2-2-2zM9 17H7v-7h2v7zm4 0h-2V7h2v10zm4 0h-2v-4h2v4z\"/>\n",
              "    </g>\n",
              "</svg>\n",
              "  </button>\n",
              "\n",
              "<style>\n",
              "  .colab-df-quickchart {\n",
              "      --bg-color: #E8F0FE;\n",
              "      --fill-color: #1967D2;\n",
              "      --hover-bg-color: #E2EBFA;\n",
              "      --hover-fill-color: #174EA6;\n",
              "      --disabled-fill-color: #AAA;\n",
              "      --disabled-bg-color: #DDD;\n",
              "  }\n",
              "\n",
              "  [theme=dark] .colab-df-quickchart {\n",
              "      --bg-color: #3B4455;\n",
              "      --fill-color: #D2E3FC;\n",
              "      --hover-bg-color: #434B5C;\n",
              "      --hover-fill-color: #FFFFFF;\n",
              "      --disabled-bg-color: #3B4455;\n",
              "      --disabled-fill-color: #666;\n",
              "  }\n",
              "\n",
              "  .colab-df-quickchart {\n",
              "    background-color: var(--bg-color);\n",
              "    border: none;\n",
              "    border-radius: 50%;\n",
              "    cursor: pointer;\n",
              "    display: none;\n",
              "    fill: var(--fill-color);\n",
              "    height: 32px;\n",
              "    padding: 0;\n",
              "    width: 32px;\n",
              "  }\n",
              "\n",
              "  .colab-df-quickchart:hover {\n",
              "    background-color: var(--hover-bg-color);\n",
              "    box-shadow: 0 1px 2px rgba(60, 64, 67, 0.3), 0 1px 3px 1px rgba(60, 64, 67, 0.15);\n",
              "    fill: var(--button-hover-fill-color);\n",
              "  }\n",
              "\n",
              "  .colab-df-quickchart-complete:disabled,\n",
              "  .colab-df-quickchart-complete:disabled:hover {\n",
              "    background-color: var(--disabled-bg-color);\n",
              "    fill: var(--disabled-fill-color);\n",
              "    box-shadow: none;\n",
              "  }\n",
              "\n",
              "  .colab-df-spinner {\n",
              "    border: 2px solid var(--fill-color);\n",
              "    border-color: transparent;\n",
              "    border-bottom-color: var(--fill-color);\n",
              "    animation:\n",
              "      spin 1s steps(1) infinite;\n",
              "  }\n",
              "\n",
              "  @keyframes spin {\n",
              "    0% {\n",
              "      border-color: transparent;\n",
              "      border-bottom-color: var(--fill-color);\n",
              "      border-left-color: var(--fill-color);\n",
              "    }\n",
              "    20% {\n",
              "      border-color: transparent;\n",
              "      border-left-color: var(--fill-color);\n",
              "      border-top-color: var(--fill-color);\n",
              "    }\n",
              "    30% {\n",
              "      border-color: transparent;\n",
              "      border-left-color: var(--fill-color);\n",
              "      border-top-color: var(--fill-color);\n",
              "      border-right-color: var(--fill-color);\n",
              "    }\n",
              "    40% {\n",
              "      border-color: transparent;\n",
              "      border-right-color: var(--fill-color);\n",
              "      border-top-color: var(--fill-color);\n",
              "    }\n",
              "    60% {\n",
              "      border-color: transparent;\n",
              "      border-right-color: var(--fill-color);\n",
              "    }\n",
              "    80% {\n",
              "      border-color: transparent;\n",
              "      border-right-color: var(--fill-color);\n",
              "      border-bottom-color: var(--fill-color);\n",
              "    }\n",
              "    90% {\n",
              "      border-color: transparent;\n",
              "      border-bottom-color: var(--fill-color);\n",
              "    }\n",
              "  }\n",
              "</style>\n",
              "\n",
              "  <script>\n",
              "    async function quickchart(key) {\n",
              "      const quickchartButtonEl =\n",
              "        document.querySelector('#' + key + ' button');\n",
              "      quickchartButtonEl.disabled = true;  // To prevent multiple clicks.\n",
              "      quickchartButtonEl.classList.add('colab-df-spinner');\n",
              "      try {\n",
              "        const charts = await google.colab.kernel.invokeFunction(\n",
              "            'suggestCharts', [key], {});\n",
              "      } catch (error) {\n",
              "        console.error('Error during call to suggestCharts:', error);\n",
              "      }\n",
              "      quickchartButtonEl.classList.remove('colab-df-spinner');\n",
              "      quickchartButtonEl.classList.add('colab-df-quickchart-complete');\n",
              "    }\n",
              "    (() => {\n",
              "      let quickchartButtonEl =\n",
              "        document.querySelector('#df-44caf0c2-ff8c-40f8-8983-73db8f9c3383 button');\n",
              "      quickchartButtonEl.style.display =\n",
              "        google.colab.kernel.accessAllowed ? 'block' : 'none';\n",
              "    })();\n",
              "  </script>\n",
              "</div>\n",
              "\n",
              "    </div>\n",
              "  </div>\n"
            ],
            "application/vnd.google.colaboratory.intrinsic+json": {
              "type": "dataframe",
              "variable_name": "df_train",
              "summary": "{\n  \"name\": \"df_train\",\n  \"rows\": 3245,\n  \"fields\": [\n    {\n      \"column\": \"Pid\",\n      \"properties\": {\n        \"dtype\": \"string\",\n        \"num_unique_values\": 3245,\n        \"samples\": [\n          \"test_pid_2587\",\n          \"test_pid_2090\",\n          \"test_pid_1125\"\n        ],\n        \"semantic_type\": \"\",\n        \"description\": \"\"\n      }\n    },\n    {\n      \"column\": \"text data\",\n      \"properties\": {\n        \"dtype\": \"string\",\n        \"num_unique_values\": 3233,\n        \"samples\": [\n          \"Time to go : Wish me luck. Im terrified.\",\n          \"What is wrong with me : My sister just recently told everyone that she is pregnant and this is crazy news to everyone. My\\nBrother my mom, every one was crying in excitement but I\\u2019m here just blank don\\u2019t feel a thing. I\\u2019m not happy or excited I\\u2019m just eh about it. Not that I\\u2019m mad or disappointed about it I just don\\u2019t seem to care or anything. When my great grandma and grandpa died it was an eh kind of thing too. When my sister had a miscarriage I didn\\u2019t feel anything. Like what is wrong with me. When I got a boyfriend for the first time. I didn\\u2019t feel anything either. No love, no excitement. And I\\u2019ve been wanting. Begging for a boyfriend. Like I\\u2019m dead Inside. And I\\u2019m wondering if I\\u2019m gonna feel like this forever. Until I die. I\\u2019m broken. Hurt. Depressed out of my mind. In pain.\",\n          \"I\\u2019m honestly done : why even try to be anything anymore? Clearly life was never meant for me so fuck it I\\u2019m done trying to make something of myself when it will never really happen.\"\n        ],\n        \"semantic_type\": \"\",\n        \"description\": \"\"\n      }\n    },\n    {\n      \"column\": \"Class labels\",\n      \"properties\": {\n        \"dtype\": \"category\",\n        \"num_unique_values\": 3,\n        \"samples\": [\n          \"moderate\",\n          \"not depression\",\n          \"severe\"\n        ],\n        \"semantic_type\": \"\",\n        \"description\": \"\"\n      }\n    }\n  ]\n}"
            }
          },
          "metadata": {},
          "execution_count": 31
        }
      ]
    },
    {
      "cell_type": "code",
      "source": [
        "display(df_train['Class labels'].unique())"
      ],
      "metadata": {
        "colab": {
          "base_uri": "https://localhost:8080/",
          "height": 54
        },
        "id": "LwrmJxjhnmvy",
        "outputId": "b2c1c8a7-6504-4dd5-9ab3-1050bfd9070a"
      },
      "execution_count": null,
      "outputs": [
        {
          "output_type": "display_data",
          "data": {
            "text/plain": [
              "array(['moderate', 'not depression', 'severe'], dtype=object)"
            ]
          },
          "metadata": {}
        }
      ]
    },
    {
      "cell_type": "code",
      "source": [
        "label_mapping = {\n",
        "    'moderate': 0,\n",
        "    'not depression': 1,\n",
        "    'severe': 2\n",
        "}\n",
        "df_train['Class labels'] = df_train['Class labels'].map(label_mapping)\n"
      ],
      "metadata": {
        "id": "jgU3yfhiPTj0"
      },
      "execution_count": null,
      "outputs": []
    },
    {
      "cell_type": "code",
      "source": [
        "df_train['Class labels'].value_counts()"
      ],
      "metadata": {
        "colab": {
          "base_uri": "https://localhost:8080/",
          "height": 229
        },
        "id": "fE61ofvxpkKH",
        "outputId": "8266e4eb-5761-4a3f-fe12-3af82ab3bd76"
      },
      "execution_count": null,
      "outputs": [
        {
          "output_type": "execute_result",
          "data": {
            "text/plain": [
              "Class labels\n",
              "0    2169\n",
              "1     848\n",
              "2     228\n",
              "Name: count, dtype: int64"
            ],
            "text/html": [
              "<div>\n",
              "<style scoped>\n",
              "    .dataframe tbody tr th:only-of-type {\n",
              "        vertical-align: middle;\n",
              "    }\n",
              "\n",
              "    .dataframe tbody tr th {\n",
              "        vertical-align: top;\n",
              "    }\n",
              "\n",
              "    .dataframe thead th {\n",
              "        text-align: right;\n",
              "    }\n",
              "</style>\n",
              "<table border=\"1\" class=\"dataframe\">\n",
              "  <thead>\n",
              "    <tr style=\"text-align: right;\">\n",
              "      <th></th>\n",
              "      <th>count</th>\n",
              "    </tr>\n",
              "    <tr>\n",
              "      <th>Class labels</th>\n",
              "      <th></th>\n",
              "    </tr>\n",
              "  </thead>\n",
              "  <tbody>\n",
              "    <tr>\n",
              "      <th>0</th>\n",
              "      <td>2169</td>\n",
              "    </tr>\n",
              "    <tr>\n",
              "      <th>1</th>\n",
              "      <td>848</td>\n",
              "    </tr>\n",
              "    <tr>\n",
              "      <th>2</th>\n",
              "      <td>228</td>\n",
              "    </tr>\n",
              "  </tbody>\n",
              "</table>\n",
              "</div><br><label><b>dtype:</b> int64</label>"
            ]
          },
          "metadata": {},
          "execution_count": 37
        }
      ]
    },
    {
      "cell_type": "code",
      "source": [
        "max_length = 0\n",
        "for text in df_train['text data']:\n",
        "  max_length = max(max_length, len(text))\n",
        "\n",
        "print(f\"The length of the longest 'text data' string is: {max_length}\")"
      ],
      "metadata": {
        "colab": {
          "base_uri": "https://localhost:8080/"
        },
        "id": "Y61k3rKnx79N",
        "outputId": "545b9193-c451-4893-c38f-4eddc678c03f"
      },
      "execution_count": null,
      "outputs": [
        {
          "output_type": "stream",
          "name": "stdout",
          "text": [
            "The length of the longest 'text data' string is: 17342\n"
          ]
        }
      ]
    },
    {
      "cell_type": "code",
      "source": [
        "my_data = []\n",
        "for data in df_train['text data']:\n",
        "  my_data.append(data)\n",
        "for i, datum in enumerate(my_data[:5]):\n",
        "  print(\"Datum #%d:\\n %s | not depression\\n\\n\" % (i, datum))"
      ],
      "metadata": {
        "colab": {
          "base_uri": "https://localhost:8080/"
        },
        "id": "a9TezfGyp3VW",
        "outputId": "e6325dd4-13df-46ca-cc25-08f634154563"
      },
      "execution_count": null,
      "outputs": [
        {
          "output_type": "stream",
          "name": "stdout",
          "text": [
            "Datum #0:\n",
            " Im scared : This is it. I lie to myself every day and say ill make it out but i think this might just be it. \n",
            "I thought i wanted a girlfriend but i realize that what i really want is to feel loved. Ive spent 20 years on this earth but ive felt completely alone forever. My heart hurts. My subconscious taunts me every night only for me to wake up to the reality that im a loser who is not worth anyones time. \n",
            "Im scared i will live like this until the day i die.\n",
            "Im being torn from the inside but im too much of coward to end it all.\n",
            "Im sorry | not depression\n",
            "\n",
            "\n",
            "Datum #1:\n",
            " New to this but just wanted to vent : I just finally realized that I’m kind of in a bad mental state. There’s this feeling of dread in me. I don’t want to work so I made an excuse not to go to work. I kind of feel like all of this stem from being financially unstable where I’m living pay check to pay check, hating my job because of the toxic environment I just had enough of it where I’m feeling like I have to walk on eggshells around people and having people talk about me because I am not at their standard, school and trying to keep up with grades and I don’t know. Just thoughts of not being here console me. I just don’t want to do anything at all I’m kind of just sad. I don’t know how to explain it. I hope someone can relate. | not depression\n",
            "\n",
            "\n",
            "Datum #2:\n",
            " I’m sad : It’s kinda always been an issue. I wouldn’t say it’s as bad as my peers but it’s definitely bad. There’s a lot that I obviously can’t write cause it would take a while but I’ll just say the grand scheme of things. So basically I’m not really happy. I haven’t been happy. It definitely started to get really bad last year but it was always an issue growing up. I was very emotional growing up and by the time I was in 4th or 5th grade I had self esteem issues. There wasn’t much of a reason why, I just did. I didn’t like myself. Tbh I hated almost everything about myself until like middle of 7th/8th grade. I found a group of friends that I would hang out with everyday and everything felt authentic. Like we always said shit how it was and got along great. We did lie about something or start some shit with each over someone else. Like we just stuck by each other. It’s hard to explain. But they all stopped talking to me. First, one of them ended up stopping talking to me because my friend. Then the other friend just stopped wanting to hang out. It wasn’t that he wasn’t friends with us anymore, he just stayed inside all day. So it was just me and the other friend and he prioritizes school over a lot of things so basically I was alone. Like yeah I could text people but it’s not really enough. It’s not very easy for my to make new friends. I’m an introvert and honestly I’m just awkward if I don’t know you. This all happened in 10th grade. 11th grade was by far my worst year. My grandfather passed away. He was more of a father to me, as my dad wasn’t really in my life for the first 10 years. I found a girlfriend and she cheated on me. My grades were slacking causing more stress. I was alone. I had 1 close friend. There was a lot of times where I honestly wanted to kill myself. I found another girlfriend. Shes been great. We’re very close. But I still feel depressed. I’m in my senior year now. \n",
            "The whole reason why I started feeling this way was after February break. I had a lot of time to myself and I was able to reflect. A lot of the nights I smoked weed just so I didn’t have to think because I knew it wasn’t going to be well. Every vacation, whether summer, Holliday, April, February, whatever, I get really sad. I don’t smoke when I have school or if I have to do something in the morning cause the mornings are hell. So I was thinking. I realized I’m very dependent on people. I need social interaction in real life to stay happy. The issue is I’m not able to get it. Even when I do, I’m sometimes still not happy. I just don’t know what to do. About a month ago, me and my gf broke up. She wasn’t happy. I was obviously sad about it, but I was finally gonna get help for everything because as bad as it sounds, I know I need her. Without her, I genuinely don’t think I can live. She’s pretty much all I have at this point I feel like. I would never tell her this, as I don’t want her to feel trapped. \n",
            "I don’t know what to do. I can’t really bring myself to tell my mom about it. My sister was suicidal and it hurt my whole family. I just don’t want her to feel bad. I don’t want to be put on meds or something either, but I just don’t know what to do. I stayed home from school yesterday and I want to again. I have no motivation. There’s a lot more to it I just kinda wrote this up in a couple minutes. I probably forgot some important stuff but the main issue is really this paragraph. I know I have some issue. I just don’t know how to fix it, well more so I can’t bring myself to tell anyone. | not depression\n",
            "\n",
            "\n",
            "Datum #3:\n",
            " Lonely but not alone. : All of my immediately family members is dead. My dad died 11 yrs ago and grandmother 9 yrs ago. My mom 7 months ago and grandfather a month ago. For six months, I was jobless and depressed. Now i have a job working as a service technician and i love it. But still i have episodes where i feel lonely and depressed and i miss my family but i have my fiancee and her daughter. My depression comes and goes like crazy. And makes it worse that i am still living in my mom old house for right now. But i am so scared that when i do move out that it wont be  stable to live for a long time (i am talking yrs) and that bring on my anxiety and eventually a depression period. I do still have thoughts but they are rare now. \n",
            "Not needing any replies just needed to vent. | not depression\n",
            "\n",
            "\n",
            "Datum #4:\n",
            " This year has been trash. : I dont know why I’m posting here. I don’t even know why I’m talking about it at all. In my family if you talk about your problems then you’re just attention seeking so I try not to. I guess I’m just tired of keeping it all to myself. This year I left my 4 year long abusive relationship. He raped me, he stalked me after we broke up, and harassed me relentlessly. I was scared to leave my own home. I was scared to even be *in* my own home. I was always worried that he’d show up and I spent most of my time with all of my doors locked and hiding behind the couch. I thought it would get better. Then I developed some major health problems and lost my job because of it. I loved my job. A lot. It was such a huge escape for me and it was always so fun for me to do. I had to have surgery and during that surgery i was awake the entire procedure and ever since then it’s made my mental health so much worse. The house I was trying to buy was sold, and now that I have no job who’s gonna sell me a house anyways? It’s like every time it starts looking up then it gets a million times worse. I don’t even know what to do at this point. Nothing is getting better. Everything is getting worse than I can handle and it just keeps coming. I need a break. I need something. Even if I just got my job back it would help immensely. I just want relief. | not depression\n",
            "\n",
            "\n"
          ]
        }
      ]
    },
    {
      "cell_type": "code",
      "source": [
        "print(my_data[1])"
      ],
      "metadata": {
        "id": "Vkg4RdWtqULr",
        "colab": {
          "base_uri": "https://localhost:8080/"
        },
        "outputId": "b28b8c9e-7cb6-4d55-dd20-f3be197733dd"
      },
      "execution_count": null,
      "outputs": [
        {
          "output_type": "stream",
          "name": "stdout",
          "text": [
            "New to this but just wanted to vent : I just finally realized that I’m kind of in a bad mental state. There’s this feeling of dread in me. I don’t want to work so I made an excuse not to go to work. I kind of feel like all of this stem from being financially unstable where I’m living pay check to pay check, hating my job because of the toxic environment I just had enough of it where I’m feeling like I have to walk on eggshells around people and having people talk about me because I am not at their standard, school and trying to keep up with grades and I don’t know. Just thoughts of not being here console me. I just don’t want to do anything at all I’m kind of just sad. I don’t know how to explain it. I hope someone can relate.\n"
          ]
        }
      ]
    },
    {
      "cell_type": "code",
      "source": [
        "%ls"
      ],
      "metadata": {
        "id": "rNg021V7Eb-l",
        "colab": {
          "base_uri": "https://localhost:8080/"
        },
        "outputId": "021632cf-bf1e-4583-b6fd-2a3a484f8313"
      },
      "execution_count": null,
      "outputs": [
        {
          "output_type": "stream",
          "name": "stdout",
          "text": [
            "dev.tsv  test.tsv  train.tsv\n"
          ]
        }
      ]
    },
    {
      "cell_type": "code",
      "source": [
        "!pwd"
      ],
      "metadata": {
        "id": "TlAms0PPEi2b",
        "colab": {
          "base_uri": "https://localhost:8080/"
        },
        "outputId": "1e8131a5-7b15-4b3e-fe57-3b50f132b19a"
      },
      "execution_count": null,
      "outputs": [
        {
          "output_type": "stream",
          "name": "stdout",
          "text": [
            "/content/depression-detection-lt-edi-2022/data/original_dataset/depression-detection-lt-edi-2022/data/original_dataset/depression-detection-lt-edi-2022/data/original_dataset\n"
          ]
        }
      ]
    },
    {
      "cell_type": "code",
      "source": [
        "from torch.utils.data import DataLoader, Dataset\n",
        "from transformers import BertTokenizer\n",
        "import torch\n",
        "tokenizer = BertTokenizer.from_pretrained('bert-base-uncased')\n",
        "\n",
        "max_length = 0\n",
        "for text in df_train['text data']:\n",
        "  max_length = max(max_length, len(text))\n",
        "\n",
        "print(f\"The length of the longest 'Text_data' string is: {max_length}\")\n",
        "\n",
        "class DepressionDataset(Dataset):\n",
        "    def __init__(self, texts, labels, tokenizer, max_length=max_length):\n",
        "        self.texts = texts\n",
        "        self.labels = labels\n",
        "        self.tokenizer = tokenizer\n",
        "        self.max_length = max_length\n",
        "\n",
        "    def __len__(self):\n",
        "        return len(self.texts)\n",
        "\n",
        "    def __getitem__(self, idx):\n",
        "        text = self.texts[idx]\n",
        "        label = self.labels[idx]\n",
        "        encoding = self.tokenizer.encode_plus(\n",
        "            text,\n",
        "            add_special_tokens=True,\n",
        "            max_length=self.max_length,\n",
        "            return_token_type_ids=False,\n",
        "            padding='max_length',\n",
        "            truncation=True,\n",
        "            return_attention_mask=True,\n",
        "            return_tensors='pt',\n",
        "        )\n",
        "        return {\n",
        "            'input_ids': encoding['input_ids'].flatten(),\n",
        "            'attention_mask': encoding['attention_mask'].flatten(),\n",
        "            'label': torch.tensor(label, dtype=torch.long)\n",
        "        }\n",
        "\n",
        "texts = [\"sample text here\", \"another sample text\"]\n",
        "labels = [0, 1]\n",
        "dataset = DepressionDataset(texts, labels, tokenizer)\n",
        "data_loader = DataLoader(dataset, batch_size=2)\n"
      ],
      "metadata": {
        "id": "3IZkBF5kElDl",
        "colab": {
          "base_uri": "https://localhost:8080/"
        },
        "outputId": "dabc0e41-c450-42a0-a100-9ba6b2c05919"
      },
      "execution_count": null,
      "outputs": [
        {
          "output_type": "stream",
          "name": "stdout",
          "text": [
            "The length of the longest 'Text_data' string is: 17342\n"
          ]
        }
      ]
    },
    {
      "cell_type": "code",
      "source": [
        "\n",
        "for batch in data_loader:\n",
        "    print(\"Input IDs:\", batch['input_ids'])\n",
        "    print(\"Attention Mask:\", batch['attention_mask'])\n",
        "    print(\"Labels:\", batch['label'])\n",
        "    break"
      ],
      "metadata": {
        "colab": {
          "base_uri": "https://localhost:8080/"
        },
        "id": "cyj1z8CPvV_Y",
        "outputId": "951a889b-af1d-4104-f598-57daf97763ab"
      },
      "execution_count": null,
      "outputs": [
        {
          "output_type": "stream",
          "name": "stdout",
          "text": [
            "Input IDs: tensor([[ 101, 7099, 3793,  ...,    0,    0,    0],\n",
            "        [ 101, 2178, 7099,  ...,    0,    0,    0]])\n",
            "Attention Mask: tensor([[1, 1, 1,  ..., 0, 0, 0],\n",
            "        [1, 1, 1,  ..., 0, 0, 0]])\n",
            "Labels: tensor([0, 1])\n"
          ]
        }
      ]
    },
    {
      "cell_type": "code",
      "source": [
        "class DepressionDataset(Dataset):\n",
        "    def __init__(self, dataframe, tokenizer, max_length=6390):\n",
        "        self.texts = dataframe['text data'].tolist()\n",
        "        self.labels = dataframe['Class labels'].tolist()\n",
        "        self.tokenizer = tokenizer\n",
        "        self.max_length = max_length\n",
        "\n",
        "    def __len__(self):\n",
        "        return len(self.texts)\n",
        "\n",
        "    def __getitem__(self, idx):\n",
        "        text = self.texts[idx]\n",
        "        label = self.labels[idx]\n",
        "        encoding = self.tokenizer.encode_plus(\n",
        "            text,\n",
        "            add_special_tokens=True,\n",
        "            max_length=self.max_length,\n",
        "            return_token_type_ids=False,\n",
        "            padding='max_length',\n",
        "            truncation=True,\n",
        "            return_attention_mask=True,\n",
        "            return_tensors='pt',\n",
        "        )\n",
        "        return {\n",
        "            'input_ids': encoding['input_ids'].flatten(),\n",
        "            'attention_mask': encoding['attention_mask'].flatten(),\n",
        "            'label': torch.tensor(label, dtype=torch.long)\n",
        "        }\n",
        "\n",
        "dataset = DepressionDataset(df_train, tokenizer)\n",
        "data_loader = DataLoader(dataset, batch_size=4, shuffle=True)"
      ],
      "metadata": {
        "id": "UZrnUSTWQH3H"
      },
      "execution_count": null,
      "outputs": []
    },
    {
      "source": [
        "import torch.nn as nn\n",
        "\n",
        "device = torch.device(\"cuda\" if torch.cuda.is_available() else \"cpu\")\n",
        "\n",
        "class MHA(nn.Module):\n",
        "    def __init__(self, vocab_size, embed_dim, num_heads=8, dropout=0.4):\n",
        "        super(MHA, self).__init__()\n",
        "        self.embed_dim = embed_dim\n",
        "        self.num_heads = num_heads\n",
        "        self.head_dim = embed_dim // num_heads\n",
        "        self.embedding = nn.Embedding(vocab_size, embed_dim)\n",
        "        self.fc_q = nn.Linear(embed_dim, embed_dim)\n",
        "        self.fc_k = nn.Linear(embed_dim, embed_dim)\n",
        "        self.fc_v = nn.Linear(embed_dim, embed_dim)\n",
        "        self.fc_o = nn.Linear(embed_dim, embed_dim)\n",
        "        self.dropout = nn.Dropout(dropout)\n",
        "        self.layer_norm = nn.LayerNorm(embed_dim)\n",
        "        self.relu = nn.ReLU()\n",
        "        self.softmax = nn.Softmax(dim=-1)\n",
        "        self.classifier = nn.Linear(embed_dim, 2)\n",
        "\n",
        "    def forward(self, input_ids):\n",
        "        x = self.embedding(input_ids)\n",
        "        batch_size = x.size(0)\n",
        "        q = self.fc_q(x)\n",
        "        k = self.fc_k(x)\n",
        "        v = self.fc_v(x)\n",
        "        q = q.view(batch_size, -1, self.num_heads, self.head_dim).permute(0, 2, 1, 3)\n",
        "        k = k.view(batch_size, -1, self.num_heads, self.head_dim).permute(0, 2, 1, 3)\n",
        "\n",
        "        v = v.view(batch_size, -1, self.num_heads, self.head_dim).permute(0, 2, 1, 3)\n",
        "        attn_weights = torch.matmul(q, k.transpose(-2, -1)) / (self.head_dim ** 0.5)\n",
        "        attn_weights = torch.softmax(attn_weights, dim=-1)\n",
        "        attn_output = torch.matmul(attn_weights, v)\n",
        "        attn_output = attn_output.permute(0, 2, 1, 3).contiguous().view(batch_size, -1, self.embed_dim)\n",
        "        output = self.fc_o(attn_output)\n",
        "        output = self.relu(output)\n",
        "        output = self.dropout(output)\n",
        "        output = self.layer_norm(output + x)\n",
        "        output = self.classifier(output)\n",
        "        output = output[:, 0, :]\n",
        "        return output\n",
        "\n",
        "import torch.optim as optim\n",
        "import torch.nn as nn\n",
        "from transformers import BertTokenizer\n",
        "\n",
        "tokenizer = BertTokenizer.from_pretrained('bert-base-uncased')\n",
        "mha_model = MHA(vocab_size=tokenizer.vocab_size, embed_dim=768).to(device)\n",
        "\n",
        "optimizer = optim.Adam(mha_model.parameters(), lr=1e-5)\n",
        "criterion = nn.CrossEntropyLoss().to(device)\n",
        "\n",
        "num_epochs = 10\n",
        "\n",
        "for epoch in range(num_epochs):\n",
        "    for batch in data_loader:\n",
        "        optimizer.zero_grad()\n",
        "\n",
        "        input_ids = batch['input_ids'].type(torch.long).to(device)\n",
        "        attention_mask = batch['attention_mask'].to(device)\n",
        "        labels = batch['label'].to(device)\n",
        "\n",
        "        outputs = mha_model(input_ids)\n",
        "\n",
        "        loss = criterion(outputs, labels)\n",
        "        loss.backward()\n",
        "        optimizer.step()\n",
        "\n",
        "        print(f\"Epoch: {epoch + 1}, Loss: {loss.item()}\")"
      ],
      "cell_type": "code",
      "metadata": {
        "id": "EzeYmCrfvbzn"
      },
      "execution_count": null,
      "outputs": []
    },
    {
      "cell_type": "code",
      "source": [],
      "metadata": {
        "id": "mFQ4D6PqVFk1"
      },
      "execution_count": null,
      "outputs": []
    }
  ]
}